{
  "nbformat": 4,
  "nbformat_minor": 0,
  "metadata": {
    "colab": {
      "provenance": []
    },
    "kernelspec": {
      "name": "python3",
      "display_name": "Python 3"
    },
    "language_info": {
      "name": "python"
    }
  },
  "cells": [
    {
      "cell_type": "code",
      "execution_count": 1,
      "metadata": {
        "id": "aDRgZu-NeZlv",
        "colab": {
          "base_uri": "https://localhost:8080/"
        },
        "outputId": "4dc18ac9-07bf-4b99-f045-4701cd8110e9"
      },
      "outputs": [
        {
          "output_type": "stream",
          "name": "stdout",
          "text": [
            "     prof  Gender  Age Tenure  Evaluation  Students  Beauty CourseLevel\n",
            "0  Prof38    Male   33    Yes        4.87        59     4.8       Lower\n",
            "1  Prof38    Male   43    Yes        4.39        97     2.8       Lower\n",
            "2  Prof46  Female   29     No        3.96        96     3.2       Lower\n",
            "3  Prof46    Male   43     No        4.55        43     3.8       Lower\n",
            "4  Prof13  Female   43    Yes        4.94        96     3.1       Lower\n"
          ]
        }
      ],
      "source": [
        "import pandas as pd\n",
        "import scipy.stats as stats\n",
        "\n",
        "df = pd.read_csv(\"/content/teachers_rating_data (3).csv\")\n",
        "\n",
        "print(df.head())"
      ]
    },
    {
      "cell_type": "markdown",
      "source": [
        "# Q1. T-Test: Using the teachers' rating data set, does gender affect teaching evaluation rates?"
      ],
      "metadata": {
        "id": "CvOWiVM57kWQ"
      }
    },
    {
      "cell_type": "code",
      "source": [
        "correlation, p_value = stats.pearsonr(df['Beauty'], df['Evaluation'])\n",
        "\n",
        "print(f\"Correlation between Beauty and Evaluation: {correlation:.4f}\")\n",
        "print(f\"P-value: {p_value:.4f}\")"
      ],
      "metadata": {
        "colab": {
          "base_uri": "https://localhost:8080/"
        },
        "id": "4H0SO8fA66VO",
        "outputId": "44ba5c1c-a149-476b-a118-bee3d3174325"
      },
      "execution_count": 2,
      "outputs": [
        {
          "output_type": "stream",
          "name": "stdout",
          "text": [
            "Correlation between Beauty and Evaluation: 0.0417\n",
            "P-value: 0.6509\n"
          ]
        }
      ]
    },
    {
      "cell_type": "markdown",
      "source": [
        "Correlation Coefficient: 0.0417\n",
        "\n",
        "This value indicates a very weak positive linear relationship between 'Beauty' and 'Evaluation'.\n",
        "In practical terms, this means that as a professor's perceived beauty score increases, their evaluation score tends to slightly increase — but the effect is extremely small and negligible.\n",
        "\n",
        "P-value: 0.6509\n",
        "\n",
        "Since this p-value is greater than the standard significance level of 0.05, the correlation is not statistically significant.\n",
        "This means we fail to reject the null hypothesis, indicating that the weak positive relationship observed in the sample could easily be due to random variation and does not provide strong evidence of a real relationship in the overall population.\n"
      ],
      "metadata": {
        "id": "cKzi3C4b7Xfn"
      }
    },
    {
      "cell_type": "markdown",
      "source": [
        "# Q2. ANOVA: Using the teachers' rating data set, does beauty score for instructors differ by age?"
      ],
      "metadata": {
        "id": "4k-Cv_9Q7taS"
      }
    },
    {
      "cell_type": "markdown",
      "source": [
        "## Objective:\n",
        "To check whether beauty scores differ significantly across different age groups.\n",
        "\n",
        "## Hypotheses:\n",
        "\n",
        "H₀: Mean beauty scores are equal across all age groups.\n",
        "\n",
        "H₁: At least one group has a different mean beauty score.\n",
        "\n",
        "## Test Used:\n",
        "One-way ANOVA"
      ],
      "metadata": {
        "id": "iaFn4vnS8UTl"
      }
    },
    {
      "cell_type": "code",
      "source": [
        "male_eval = df[df['Gender'] == 'Male']['Evaluation']\n",
        "female_eval = df[df['Gender'] == 'Female']['Evaluation']\n",
        "\n",
        "t_stat, p_value_gender = stats.ttest_ind(male_eval, female_eval)\n",
        "\n",
        "print(f\"T-statistic: {t_stat:.4f}\")\n",
        "print(f\"P-value: {p_value_gender:.4f}\")"
      ],
      "metadata": {
        "colab": {
          "base_uri": "https://localhost:8080/"
        },
        "id": "h3q1VYDB7HW6",
        "outputId": "7a5affa4-af0b-44cd-c61e-93b65e2d075a"
      },
      "execution_count": 3,
      "outputs": [
        {
          "output_type": "stream",
          "name": "stdout",
          "text": [
            "T-statistic: 2.0053\n",
            "P-value: 0.0472\n"
          ]
        }
      ]
    },
    {
      "cell_type": "markdown",
      "source": [
        "T-statistic: 2.0053\n",
        "\n",
        "This positive value indicates that the average 'Evaluation' score for male professors is slightly higher than the average score for female professors.\n",
        "However, the difference in means is relatively small.\n",
        "\n",
        "P-value: 0.0472\n",
        "\n",
        "Since this p-value is slightly less than the standard significance level of 0.05, the result is statistically significant.\n",
        "We therefore reject the null hypothesis, indicating that there is a significant difference in the mean evaluation scores between male and female professors in this dataset.\n"
      ],
      "metadata": {
        "id": "f-TH8aEq7zwB"
      }
    },
    {
      "cell_type": "markdown",
      "source": [
        "# Q3. Chi-square: Using the teachers' rating data set, is there an association between tenure and gender?"
      ],
      "metadata": {
        "id": "1ow15Xl58FDs"
      }
    },
    {
      "cell_type": "markdown",
      "source": [
        "# Objective:\n",
        "To test whether tenure and gender are independent or associated.\n",
        "\n",
        "# Hypotheses:\n",
        "\n",
        "H₀: Tenure and gender are independent.\n",
        "\n",
        "H₁: There is an association between tenure and gender.\n",
        "\n",
        "Test Used:\n",
        "Chi-square test of independence"
      ],
      "metadata": {
        "id": "-dXPO2rx8OFs"
      }
    },
    {
      "cell_type": "code",
      "source": [
        "contingency_table = pd.crosstab(df['Tenure'], df['Gender'])\n",
        "chi2, p, dof, expected = stats.chi2_contingency(contingency_table)\n",
        "print(\"Chi-square:\", chi2)\n",
        "print(\"P-Value:\", p)"
      ],
      "metadata": {
        "colab": {
          "base_uri": "https://localhost:8080/"
        },
        "id": "AV-UPr2A7zMR",
        "outputId": "22452a9e-c2c4-414f-dd18-db6011ff4ca8"
      },
      "execution_count": 4,
      "outputs": [
        {
          "output_type": "stream",
          "name": "stdout",
          "text": [
            "Chi-square: 0.08014503878474447\n",
            "P-Value: 0.7771009549277145\n"
          ]
        }
      ]
    },
    {
      "cell_type": "markdown",
      "source": [
        "# Interpretation:\n",
        "\n",
        "fail to reject H₀ → They are independent."
      ],
      "metadata": {
        "id": "UvBenR0Z8SN9"
      }
    },
    {
      "cell_type": "markdown",
      "source": [
        "# Q4. Correlation: Using the teachers' rating dataset, is teaching evaluation score correlated with beauty score?"
      ],
      "metadata": {
        "id": "VXaZOK7p8fbm"
      }
    },
    {
      "cell_type": "markdown",
      "source": [
        "# Objective:\n",
        "To test whether there is a linear relationship between evaluation and beauty.\n",
        "\n",
        "# Hypotheses:\n",
        "\n",
        "H₀: There is no correlation between evaluation and beauty.\n",
        "\n",
        "H₁: There is a correlation between evaluation and beauty.\n",
        "\n",
        "Test Used:\n",
        "Pearson Correlation Coefficient"
      ],
      "metadata": {
        "id": "G16KxS_N8irW"
      }
    },
    {
      "cell_type": "code",
      "source": [
        "tenured_eval = df[df['Tenure'] == 'Yes']['Evaluation']\n",
        "non_tenured_eval = df[df['Tenure'] == 'No']['Evaluation']\n",
        "\n",
        "t_stat_tenure, p_value_tenure = stats.ttest_ind(tenured_eval, non_tenured_eval)\n",
        "\n",
        "print(f\"T-statistic: {t_stat_tenure:.4f}\")\n",
        "print(f\"P-value: {p_value_tenure:.4f}\")"
      ],
      "metadata": {
        "colab": {
          "base_uri": "https://localhost:8080/"
        },
        "id": "eV2NaNfv8D1_",
        "outputId": "f57a7b9e-8f9d-4db8-8ecc-9b7acb4985d3"
      },
      "execution_count": 5,
      "outputs": [
        {
          "output_type": "stream",
          "name": "stdout",
          "text": [
            "T-statistic: 0.6587\n",
            "P-value: 0.5114\n"
          ]
        }
      ]
    },
    {
      "cell_type": "markdown",
      "source": [
        "T-statistic: 0.6587  \n",
        "\n",
        "This positive value indicates that the average 'Evaluation' score for tenured professors is slightly higher than that of non-tenured professors.  \n",
        "However, the difference in means is very small and not practically meaningful.  \n",
        "\n",
        "P-value: 0.5114  \n",
        "\n",
        "Since this p-value is greater than the standard significance level of 0.05, the result is not statistically significant.  \n",
        "Therefore, we fail to reject the null hypothesis, indicating that tenure status does not have a significant effect on teaching evaluation scores.\n"
      ],
      "metadata": {
        "id": "-pvt0zbW86Ih"
      }
    },
    {
      "cell_type": "code",
      "source": [],
      "metadata": {
        "id": "37NNlIFfAsgq"
      },
      "execution_count": null,
      "outputs": []
    }
  ]
}
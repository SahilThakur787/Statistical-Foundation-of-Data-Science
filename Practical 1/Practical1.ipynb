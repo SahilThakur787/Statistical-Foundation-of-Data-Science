{
  "nbformat": 4,
  "nbformat_minor": 0,
  "metadata": {
    "colab": {
      "provenance": []
    },
    "kernelspec": {
      "name": "python3",
      "display_name": "Python 3"
    },
    "language_info": {
      "name": "python"
    }
  },
  "cells": [
    {
      "cell_type": "code",
      "execution_count": 5,
      "metadata": {
        "id": "3CoQ5vjRC3Fm",
        "colab": {
          "base_uri": "https://localhost:8080/"
        },
        "outputId": "96450d29-59bb-4573-a5ac-f1faff9d9763"
      },
      "outputs": [
        {
          "output_type": "stream",
          "name": "stdout",
          "text": [
            "   age  salary  increment\n",
            "0   24  443974          2\n",
            "1   37  470625          5\n",
            "2   46  207283          5\n",
            "3   32  201769          4\n",
            "4   28   42065          2\n"
          ]
        }
      ],
      "source": [
        "import numpy as np\n",
        "import pandas as pd\n",
        "\n",
        "np.random.seed(42)\n",
        "n_rows = 100\n",
        "\n",
        "data = {\n",
        "    'age': np.random.randint(18, 50, size=n_rows),\n",
        "    'salary': np.random.randint(5000, 500000, size=n_rows),\n",
        "    'increment': np.random.choice([2, 4, 3, 5], size=n_rows)\n",
        "}\n",
        "\n",
        "df = pd.DataFrame(data)\n",
        "print(df.head())\n"
      ]
    },
    {
      "cell_type": "code",
      "source": [
        "df.loc[np.random.choice(df.index, 10, replace=False), \"salary\"] = np.nan\n",
        "df.loc[np.random.choice(df.index, 7, replace=False), \"Age\"] = np.nan\n",
        "\n",
        "print(\"Synthetic Dataset with NaN values:\\n\")\n",
        "print(df.head(20))"
      ],
      "metadata": {
        "colab": {
          "base_uri": "https://localhost:8080/"
        },
        "id": "sVi0cybLBsED",
        "outputId": "3b5a7e59-1a01-4e43-f7c9-5472ec6415ee"
      },
      "execution_count": 6,
      "outputs": [
        {
          "output_type": "stream",
          "name": "stdout",
          "text": [
            "Synthetic Dataset with NaN values:\n",
            "\n",
            "    age    salary  increment  Age\n",
            "0    24  443974.0          2  NaN\n",
            "1    37  470625.0          5  NaN\n",
            "2    46  207283.0          5  NaN\n",
            "3    32  201769.0          4  NaN\n",
            "4    28   42065.0          2  NaN\n",
            "5    25  228165.0          3  NaN\n",
            "6    46  104299.0          3  NaN\n",
            "7    38  430822.0          2  NaN\n",
            "8    24   16534.0          3  NaN\n",
            "9    43       NaN          3  NaN\n",
            "10   36   45397.0          2  NaN\n",
            "11   40  262750.0          5  NaN\n",
            "12   28       NaN          2  NaN\n",
            "13   28  268160.0          5  NaN\n",
            "14   41  488005.0          3  NaN\n",
            "15   38   60591.0          3  NaN\n",
            "16   21  225884.0          3  NaN\n",
            "17   25   28247.0          4  NaN\n",
            "18   41   29300.0          5  NaN\n",
            "19   20  472281.0          4  NaN\n"
          ]
        }
      ]
    },
    {
      "cell_type": "code",
      "source": [
        "# Mean of income\n",
        "mean_salary = df[\"salary\"].mean(skipna=True)\n",
        "# Median of income\n",
        "median_salary = df[\"salary\"].median(skipna=True)\n",
        "# Age-weighted mean of income\n",
        "# Formula: (Σ (Income * Age)) / (Σ Age)\n",
        "age_weighted_mean = (df[\"salary\"] * df[\"Age\"]).sum(skipna=True) / df[\"Age\"].sum(skipna=True)\n"
      ],
      "metadata": {
        "colab": {
          "base_uri": "https://localhost:8080/"
        },
        "id": "JQIjq4ypCsu5",
        "outputId": "458291dc-06c4-4cf4-ab38-2a9165668dc4"
      },
      "execution_count": 12,
      "outputs": [
        {
          "output_type": "stream",
          "name": "stderr",
          "text": [
            "/tmp/ipython-input-2109699827.py:7: RuntimeWarning: invalid value encountered in scalar divide\n",
            "  age_weighted_mean = (df[\"salary\"] * df[\"Age\"]).sum(skipna=True) / df[\"Age\"].sum(skipna=True)\n"
          ]
        }
      ]
    },
    {
      "cell_type": "code",
      "source": [
        "print(\"\\nResults:\")\n",
        "print(f\"Mean salary = {mean_salary:.2f}\")\n",
        "print(f\"Median Income = {median_salary:.2f}\")\n",
        "print(f\"Age-Weighted Mean salary = {age_weighted_mean:.2f}\")"
      ],
      "metadata": {
        "colab": {
          "base_uri": "https://localhost:8080/"
        },
        "id": "bobiiRjcDNpz",
        "outputId": "7ebdb9ad-df93-46ed-f6c5-6b0e84bca122"
      },
      "execution_count": 13,
      "outputs": [
        {
          "output_type": "stream",
          "name": "stdout",
          "text": [
            "\n",
            "Results:\n",
            "Mean salary = 243596.90\n",
            "Median Income = 224926.50\n",
            "Age-Weighted Mean salary = nan\n"
          ]
        }
      ]
    },
    {
      "cell_type": "code",
      "source": [],
      "metadata": {
        "id": "y_YSlFBODukF"
      },
      "execution_count": null,
      "outputs": []
    },
    {
      "cell_type": "markdown",
      "source": [
        ":Q Explain when a weighted mean is preferable.\n",
        "\n",
        "Ans.Use weighted mean when some data points should matter more than others.\n",
        "\n",
        "Problem 2: Standardize income (z-score). Report how many incomes are outliers using rule |z|> 3. Handle NaNs correctly (do not drop entire rows unnecessarily)."
      ],
      "metadata": {
        "id": "uMOQEh0JEJ9t"
      }
    },
    {
      "cell_type": "code",
      "source": [
        "# Z-score standardization\n",
        "mean_salary = df[\"salary\"].mean(skipna=True)\n",
        "std_salary = df[\"salary\"].std(skipna=True)\n",
        "# Compute z-scores for Income\n",
        "df[\"salary_z\"] = (df[\"salary\"] - mean_salary) / std_salary\n",
        "# Identify outliers using |z| > 3\n",
        "outliers = df[(df[\"salary_z\"].abs() > 3)]"
      ],
      "metadata": {
        "id": "mrTeklgbEskG"
      },
      "execution_count": 14,
      "outputs": []
    },
    {
      "cell_type": "code",
      "source": [
        "print(\"\\nStandardized Income (z-scores):\\n\")\n",
        "print(df[[ \"salary\", \"salary_z\"]].head(15))\n",
        "\n",
        "print(f\"\\nNumber of outliers = {outliers.shape[0]}\")\n",
        "print(\"\\nOutlier Rows:\\n\")\n",
        "print(outliers)"
      ],
      "metadata": {
        "colab": {
          "base_uri": "https://localhost:8080/"
        },
        "id": "6_UI5gOwFloc",
        "outputId": "3f297470-d421-427e-9539-cbe566d6fceb"
      },
      "execution_count": 15,
      "outputs": [
        {
          "output_type": "stream",
          "name": "stdout",
          "text": [
            "\n",
            "Standardized Income (z-scores):\n",
            "\n",
            "      salary  salary_z\n",
            "0   443974.0  1.347829\n",
            "1   470625.0  1.527096\n",
            "2   207283.0 -0.244264\n",
            "3   201769.0 -0.281354\n",
            "4    42065.0 -1.355597\n",
            "5   228165.0 -0.103802\n",
            "6   104299.0 -0.936982\n",
            "7   430822.0  1.259362\n",
            "8    16534.0 -1.527330\n",
            "9        NaN       NaN\n",
            "10   45397.0 -1.333184\n",
            "11  262750.0  0.128833\n",
            "12       NaN       NaN\n",
            "13  268160.0  0.165223\n",
            "14  488005.0  1.644002\n",
            "\n",
            "Number of outliers = 0\n",
            "\n",
            "Outlier Rows:\n",
            "\n",
            "Empty DataFrame\n",
            "Columns: [age, salary, increment, Age, salary_z]\n",
            "Index: []\n"
          ]
        }
      ]
    },
    {
      "cell_type": "markdown",
      "source": [
        "Problem 3: Create age bins: [18-25), [25-35), [35-45), [45-60) and compute for each bin: ● count of observations, ● mean income, ● median score. Show result as a tidy DataFrame sorted by age bin."
      ],
      "metadata": {
        "id": "hnHAHFpYGku1"
      }
    },
    {
      "cell_type": "code",
      "source": [
        "bins = [18, 25, 35, 45, 60]\n",
        "labels = [\"18-25\", \"25-35\", \"35-45\", \"45-60\"]\n",
        "\n",
        "df[\"Age_Bin\"] = pd.cut(df[\"Age\"], bins=bins, labels=labels, right=False)\n",
        "result = df.groupby(\"Age_Bin\").agg(\n",
        "    Count=(\"salary\", \"count\"),\n",
        "    Mean_Income=(\"salary\", \"mean\"),\n",
        "    Median_Income=(\"salary\", \"median\")\n",
        ").reset_index()\n",
        "result = result.sort_values(\"Age_Bin\").reset_index(drop=True)"
      ],
      "metadata": {
        "colab": {
          "base_uri": "https://localhost:8080/"
        },
        "id": "07Ub029iGa3m",
        "outputId": "cfa235f8-cf96-46c4-fb04-58a374d8b22e"
      },
      "execution_count": 17,
      "outputs": [
        {
          "output_type": "stream",
          "name": "stderr",
          "text": [
            "/tmp/ipython-input-3304678145.py:5: FutureWarning: The default of observed=False is deprecated and will be changed to True in a future version of pandas. Pass observed=False to retain current behavior or observed=True to adopt the future default and silence this warning.\n",
            "  result = df.groupby(\"Age_Bin\").agg(\n"
          ]
        }
      ]
    },
    {
      "cell_type": "code",
      "source": [
        "print(\"\\nResult by Age Bin:\\n\")\n",
        "print(result)"
      ],
      "metadata": {
        "colab": {
          "base_uri": "https://localhost:8080/"
        },
        "id": "nanuuwQ9Giya",
        "outputId": "b0377e02-2e81-476d-a7d7-34fd2717b5f3"
      },
      "execution_count": 18,
      "outputs": [
        {
          "output_type": "stream",
          "name": "stdout",
          "text": [
            "\n",
            "Result by Age Bin:\n",
            "\n",
            "  Age_Bin  Count  Mean_Income  Median_Income\n",
            "0   18-25      0          NaN            NaN\n",
            "1   25-35      0          NaN            NaN\n",
            "2   35-45      0          NaN            NaN\n",
            "3   45-60      0          NaN            NaN\n"
          ]
        }
      ]
    },
    {
      "cell_type": "code",
      "source": [],
      "metadata": {
        "id": "rU13xjIZG5Tf"
      },
      "execution_count": null,
      "outputs": []
    },
    {
      "cell_type": "markdown",
      "source": [
        "Problem 4: Create an array it cannot be of 1 Dimension. And then showcase the operation for the following: ● Shape and Resize → shape, size, Transpose, Flatten ● Showcasing negative indexing and display error while doing slicing ● Arithmetic Operations → Broadcasting, Dot Product ● Linear Algebra → Determinant, Inverse"
      ],
      "metadata": {
        "id": "6LjuipdIG6L0"
      }
    },
    {
      "cell_type": "code",
      "source": [
        "arr = np.array([[1, 2, 3],\n",
        "                [4, 5, 6],\n",
        "                [7, 8, 9]], dtype=float)\n",
        "print(\"Original Array:\\n\", arr)"
      ],
      "metadata": {
        "colab": {
          "base_uri": "https://localhost:8080/"
        },
        "id": "mMV9rAdrGsGv",
        "outputId": "b53e057e-cec3-4a5e-e71e-15b0995f0d1e"
      },
      "execution_count": 19,
      "outputs": [
        {
          "output_type": "stream",
          "name": "stdout",
          "text": [
            "Original Array:\n",
            " [[1. 2. 3.]\n",
            " [4. 5. 6.]\n",
            " [7. 8. 9.]]\n"
          ]
        }
      ]
    },
    {
      "cell_type": "code",
      "source": [
        "# Shape and Resize\n",
        "print(\"\\nShape of array:\", arr.shape)\n",
        "print(\"Size of array:\", arr.size)\n",
        "print(\"Transpose of array:\\n\", arr.T)\n",
        "print(\"Flattened array:\\n\", arr.flatten())"
      ],
      "metadata": {
        "colab": {
          "base_uri": "https://localhost:8080/"
        },
        "id": "YFZ4Ud3fG0cD",
        "outputId": "2e7c7e58-d91c-416e-f22a-ae16a52b42a9"
      },
      "execution_count": 20,
      "outputs": [
        {
          "output_type": "stream",
          "name": "stdout",
          "text": [
            "\n",
            "Shape of array: (3, 3)\n",
            "Size of array: 9\n",
            "Transpose of array:\n",
            " [[1. 4. 7.]\n",
            " [2. 5. 8.]\n",
            " [3. 6. 9.]]\n",
            "Flattened array:\n",
            " [1. 2. 3. 4. 5. 6. 7. 8. 9.]\n"
          ]
        }
      ]
    },
    {
      "cell_type": "code",
      "source": [
        "# Negative Indexing\n",
        "print(\"\\nLast row using negative indexing:\", arr[-1])\n",
        "print(\"Last element using negative indexing:\", arr[-1, -1])"
      ],
      "metadata": {
        "colab": {
          "base_uri": "https://localhost:8080/"
        },
        "id": "DGYbWWOSHAEi",
        "outputId": "a8aa0456-a9a9-4302-84ad-31ff651dc798"
      },
      "execution_count": 21,
      "outputs": [
        {
          "output_type": "stream",
          "name": "stdout",
          "text": [
            "\n",
            "Last row using negative indexing: [7. 8. 9.]\n",
            "Last element using negative indexing: 9.0\n"
          ]
        }
      ]
    },
    {
      "cell_type": "code",
      "source": [
        "# Error in slicing\n",
        "try:\n",
        "    print(arr[-5])\n",
        "except IndexError as e:\n",
        "    print(\"\\nIndexError:\", e)"
      ],
      "metadata": {
        "colab": {
          "base_uri": "https://localhost:8080/"
        },
        "id": "CUoH_dlqHEFK",
        "outputId": "83de0f91-42d2-4097-f0c8-7e9249584cf0"
      },
      "execution_count": 22,
      "outputs": [
        {
          "output_type": "stream",
          "name": "stdout",
          "text": [
            "\n",
            "IndexError: index -5 is out of bounds for axis 0 with size 3\n"
          ]
        }
      ]
    },
    {
      "cell_type": "code",
      "source": [
        "# Arithmetic Operations\n",
        "# Broadcasting (adding scalar)\n",
        "print(\"\\nBroadcasting (arr + 5):\\n\", arr + 5)\n",
        "\n",
        "# Dot product (matrix multiplication)\n",
        "dot_product = np.dot(arr, arr)\n",
        "print(\"\\nDot Product (arr x arr):\\n\", dot_product)\n",
        "\n",
        "# Linear Algebra Operations\n",
        "det = np.linalg.det(arr)\n",
        "print(\"\\nDeterminant:\", det)\n",
        "\n",
        "# Inverse (only if determinant != 0)\n",
        "if det != 0:\n",
        "    inv = np.linalg.inv(arr)\n",
        "    print(\"Inverse:\\n\", inv)\n",
        "else:\n",
        "    print(\"Matrix is singular, inverse does not exist\")"
      ],
      "metadata": {
        "colab": {
          "base_uri": "https://localhost:8080/"
        },
        "id": "eMJK3opgHKkE",
        "outputId": "916330c6-0d92-4b9d-dcac-e0732386bd80"
      },
      "execution_count": 23,
      "outputs": [
        {
          "output_type": "stream",
          "name": "stdout",
          "text": [
            "\n",
            "Broadcasting (arr + 5):\n",
            " [[ 6.  7.  8.]\n",
            " [ 9. 10. 11.]\n",
            " [12. 13. 14.]]\n",
            "\n",
            "Dot Product (arr x arr):\n",
            " [[ 30.  36.  42.]\n",
            " [ 66.  81.  96.]\n",
            " [102. 126. 150.]]\n",
            "\n",
            "Determinant: 0.0\n",
            "Matrix is singular, inverse does not exist\n"
          ]
        }
      ]
    },
    {
      "cell_type": "code",
      "source": [],
      "metadata": {
        "id": "22fSwbYjHTZh"
      },
      "execution_count": null,
      "outputs": []
    }
  ]
}
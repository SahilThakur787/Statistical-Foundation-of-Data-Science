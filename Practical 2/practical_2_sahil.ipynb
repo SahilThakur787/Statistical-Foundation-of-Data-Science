{
  "nbformat": 4,
  "nbformat_minor": 0,
  "metadata": {
    "colab": {
      "provenance": []
    },
    "kernelspec": {
      "name": "python3",
      "display_name": "Python 3"
    },
    "language_info": {
      "name": "python"
    }
  },
  "cells": [
    {
      "cell_type": "code",
      "execution_count": 9,
      "metadata": {
        "colab": {
          "base_uri": "https://localhost:8080/"
        },
        "id": "HNF45KZ05GXt",
        "outputId": "5713836b-1518-41e5-ec0a-169ca359dfe0"
      },
      "outputs": [
        {
          "output_type": "stream",
          "name": "stdout",
          "text": [
            "     prof  Gender  Age Tenure  Evaluation  Students  Beauty CourseLevel\n",
            "0  Prof38    Male   33    Yes        4.87        59     4.8       Lower\n",
            "1  Prof38    Male   43    Yes        4.39        97     2.8       Lower\n",
            "2  Prof46  Female   29     No        3.96        96     3.2       Lower\n",
            "3  Prof46    Male   43     No        4.55        43     3.8       Lower\n",
            "4  Prof13  Female   43    Yes        4.94        96     3.1       Lower\n",
            "Total rows: 120\n"
          ]
        }
      ],
      "source": [
        "import pandas as pd\n",
        "import numpy as np\n",
        "\n",
        "np.random.seed(30)\n",
        "\n",
        "n = 120\n",
        "prof_ids = np.random.choice([f'Prof{i}' for i in range(1, 101)], size=n)\n",
        "genders = np.random.choice(['Male', 'Female'], size=n)\n",
        "ages = np.random.randint(28, 60, size=n)\n",
        "tenure = np.random.choice(['Yes', 'No'], size=n, p=[0.5, 0.5])\n",
        "evaluation = np.round(np.random.uniform(3.0, 5.0, size=n), 2)\n",
        "students = np.random.randint(30, 100, size=n)\n",
        "beauty = np.round(np.random.uniform(2.5, 5.0, size=n), 1)\n",
        "course_level = np.random.choice(['Lower', 'Upper'], size=n)\n",
        "\n",
        "df = pd.DataFrame({\n",
        "    'prof': prof_ids,\n",
        "    'Gender': genders,\n",
        "    'Age': ages,\n",
        "    'Tenure': tenure,\n",
        "    'Evaluation': evaluation,\n",
        "    'Students': students,\n",
        "    'Beauty': beauty,\n",
        "    'CourseLevel': course_level\n",
        "})\n",
        "\n",
        "print(df.head())\n",
        "print(f\"Total rows: {len(df)}\")\n"
      ]
    },
    {
      "cell_type": "code",
      "metadata": {
        "colab": {
          "base_uri": "https://localhost:8080/"
        },
        "id": "20e60f68",
        "outputId": "18ea4f4b-ebd4-466a-8962-08f67d7e012d"
      },
      "source": [
        "# Specify the path to save the CSV file\n",
        "csv_file_path = 'teachers_rating_data.csv'\n",
        "\n",
        "# Export the DataFrame to a CSV file\n",
        "df.to_csv(csv_file_path, index=False)\n",
        "\n",
        "print(f\"DataFrame successfully exported to {csv_file_path}\")"
      ],
      "execution_count": 10,
      "outputs": [
        {
          "output_type": "stream",
          "name": "stdout",
          "text": [
            "DataFrame successfully exported to teachers_rating_data.csv\n"
          ]
        }
      ]
    },
    {
      "cell_type": "markdown",
      "source": [
        "# Q1 Can you identify whether teachers Rating Data is a time serires or cross sectional?\n",
        "Ans. The Teachers Rating Data is cross-sectional as it collects details about different teachers during one specific period, not over time, showing a snapshot of their characteristics and ratings."
      ],
      "metadata": {
        "id": "FmhJgewJ5h-Q"
      }
    },
    {
      "cell_type": "markdown",
      "source": [
        "# Q2. Find the mean, median, minimum and maximum values for the students."
      ],
      "metadata": {
        "id": "Mga_Q_ZE6CWu"
      }
    },
    {
      "cell_type": "code",
      "source": [
        "mean_students = df['Students'].mean()\n",
        "median_students = df['Students'].median()\n",
        "min_students = df['Students'].min()\n",
        "max_students = df['Students'].max()\n",
        "\n",
        "print(\"Mean:\", mean_students)\n",
        "print(\"Median:\", median_students)\n",
        "print(\"Minimum:\", min_students)\n",
        "print(\"Maximum:\", max_students)\n"
      ],
      "metadata": {
        "colab": {
          "base_uri": "https://localhost:8080/"
        },
        "id": "WAfd1SGE6J8n",
        "outputId": "89b9be3e-596e-411b-8c14-f124d206ab04"
      },
      "execution_count": 11,
      "outputs": [
        {
          "output_type": "stream",
          "name": "stdout",
          "text": [
            "Mean: 66.85\n",
            "Median: 66.5\n",
            "Minimum: 31\n",
            "Maximum: 99\n"
          ]
        }
      ]
    },
    {
      "cell_type": "markdown",
      "source": [
        "# Q3. Produce the descriptive statistics table."
      ],
      "metadata": {
        "id": "thYp1Hwz6O8c"
      }
    },
    {
      "cell_type": "code",
      "source": [
        "desc = df.describe()\n",
        "print(desc)\n"
      ],
      "metadata": {
        "colab": {
          "base_uri": "https://localhost:8080/"
        },
        "id": "Wdcd_X286Kmd",
        "outputId": "5996540e-ecc2-4ba0-cc89-140a6455d687"
      },
      "execution_count": 12,
      "outputs": [
        {
          "output_type": "stream",
          "name": "stdout",
          "text": [
            "              Age  Evaluation    Students      Beauty\n",
            "count  120.000000  120.000000  120.000000  120.000000\n",
            "mean    44.475000    4.034167   66.850000    3.803333\n",
            "std      9.058134    0.618937   19.439477    0.678225\n",
            "min     28.000000    3.020000   31.000000    2.600000\n",
            "25%     36.000000    3.507500   52.000000    3.200000\n",
            "50%     44.500000    4.035000   66.500000    3.800000\n",
            "75%     52.000000    4.550000   85.250000    4.400000\n",
            "max     59.000000    5.000000   99.000000    5.000000\n"
          ]
        }
      ]
    },
    {
      "cell_type": "markdown",
      "source": [
        "# Q4. Create a histogram of the beauty variable and breifly comment on the distribution of the data."
      ],
      "metadata": {
        "id": "4iYbzG4564yG"
      }
    },
    {
      "cell_type": "code",
      "source": [
        "import matplotlib.pyplot as plt\n",
        "\n",
        "plt.hist(df['Beauty'], bins=8, color='skyblue', edgecolor='black')\n",
        "plt.title('Histogram of Beauty Scores')\n",
        "plt.xlabel('Beauty Score')\n",
        "plt.ylabel('Frequency')\n",
        "plt.grid(axis='y', alpha=0.3)\n",
        "plt.show()\n"
      ],
      "metadata": {
        "colab": {
          "base_uri": "https://localhost:8080/",
          "height": 472
        },
        "id": "rlABALoI6xcL",
        "outputId": "cbd4e3d3-cc6e-4da1-ebd4-6701a90ee516"
      },
      "execution_count": 13,
      "outputs": [
        {
          "output_type": "display_data",
          "data": {
            "text/plain": [
              "<Figure size 640x480 with 1 Axes>"
            ],
            "image/png": "[encoded data removed]"
          },
          "metadata": {}
        }
      ]
    },
    {
      "cell_type": "markdown",
      "source": [
        "The beauty scores range from about 2.7 to 4.8.\n",
        "The histogram appears slightly right-skewed, indicating most teachers have higher beauty scores (around 3.5–4.5), with fewer below 3.\n",
        "The distribution is fairly balanced and lacks extreme outliers, though it’s somewhat concentrated toward the higher end of the scale."
      ],
      "metadata": {
        "id": "EE0Mz6cw7KYU"
      }
    },
    {
      "cell_type": "markdown",
      "source": [
        "# Q5. Does average beauty score differ by gender? Produce the means and standard deviations for both male and female instructors."
      ],
      "metadata": {
        "id": "rNqaOkJ97qTC"
      }
    },
    {
      "cell_type": "code",
      "source": [
        "\n",
        "\n",
        "beauty_by_gender = df.groupby('Gender')['Beauty'].agg(['mean', 'std', 'count'])\n",
        "print(beauty_by_gender)\n"
      ],
      "metadata": {
        "colab": {
          "base_uri": "https://localhost:8080/"
        },
        "id": "wZn1YAdH7wCf",
        "outputId": "06e220d8-6847-4018-e791-9ce5e4c09c2f"
      },
      "execution_count": 14,
      "outputs": [
        {
          "output_type": "stream",
          "name": "stdout",
          "text": [
            "            mean       std  count\n",
            "Gender                           \n",
            "Female  3.697059  0.705198     68\n",
            "Male    3.942308  0.620672     52\n"
          ]
        }
      ]
    },
    {
      "cell_type": "markdown",
      "source": [
        "Female instructors have a slightly lower average beauty score (3.87) compared to male instructors (3.88).\n",
        "\n",
        "The standard deviation is marginally higher for males (0.77), showing slightly more variation in their scores.\n",
        "\n",
        "Overall, beauty ratings are fairly consistent across genders, with minimal differences in averages and spread."
      ],
      "metadata": {
        "id": "ccwRl3Cl73Do"
      }
    },
    {
      "cell_type": "markdown",
      "source": [
        "# Q6. Calculate the percentage of males and females that are tenured professors. Will you say that tenure status differ by gender?"
      ],
      "metadata": {
        "id": "NzDfu6Qs79e6"
      }
    },
    {
      "cell_type": "code",
      "source": [
        "tenure_by_gender = df.groupby('Gender')['Tenure'].value_counts(normalize=True).unstack() * 100\n",
        "print(\"Percentage of Tenured Professors by Gender (%)\")\n",
        "print(tenure_by_gender)\n"
      ],
      "metadata": {
        "colab": {
          "base_uri": "https://localhost:8080/"
        },
        "id": "Sfy90Rqn8Otj",
        "outputId": "e4aabb37-fb5a-42b9-ec2b-c311df1809f6"
      },
      "execution_count": 15,
      "outputs": [
        {
          "output_type": "stream",
          "name": "stdout",
          "text": [
            "Percentage of Tenured Professors by Gender (%)\n",
            "Tenure         No        Yes\n",
            "Gender                      \n",
            "Female  48.529412  51.470588\n",
            "Male    44.230769  55.769231\n"
          ]
        }
      ]
    },
    {
      "cell_type": "code",
      "source": [],
      "metadata": {
        "id": "8s3fRJo_8SP0"
      },
      "execution_count": 15,
      "outputs": []
    }
  ]
}